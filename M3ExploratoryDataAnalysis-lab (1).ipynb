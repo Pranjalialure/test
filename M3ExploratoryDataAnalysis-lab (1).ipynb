{
  "metadata": {
    "kernelspec": {
      "name": "python",
      "display_name": "Python (Pyodide)",
      "language": "python"
    },
    "language_info": {
      "codemirror_mode": {
        "name": "python",
        "version": 3
      },
      "file_extension": ".py",
      "mimetype": "text/x-python",
      "name": "python",
      "nbconvert_exporter": "python",
      "pygments_lexer": "ipython3",
      "version": "3.8"
    },
    "prev_pub_hash": "ade92979dd70141c119d5b4bacc0df03967cedc29c4b7d26b1149404340075d2"
  },
  "nbformat_minor": 4,
  "nbformat": 4,
  "cells": [
    {
      "cell_type": "markdown",
      "source": "<p style=\"text-align:center\">\n    <a href=\"https://skills.network\" target=\"_blank\">\n    <img src=\"https://cf-courses-data.s3.us.cloud-object-storage.appdomain.cloud/assets/logos/SN_web_lightmode.png\" width=\"200\" alt=\"Skills Network Logo\">\n    </a>\n</p>\n",
      "metadata": {}
    },
    {
      "cell_type": "markdown",
      "source": "# **Exploratory Data Analysis Lab**\n",
      "metadata": {}
    },
    {
      "cell_type": "markdown",
      "source": "Estimated time needed: **30** minutes\n",
      "metadata": {}
    },
    {
      "cell_type": "markdown",
      "source": "In this module you get to work with the cleaned dataset from the previous module.\n\nIn this assignment you will perform the task of exploratory data analysis.\nYou will find out the distribution of data, presence of outliers and also determine the correlation between different columns in the dataset.\n",
      "metadata": {}
    },
    {
      "cell_type": "markdown",
      "source": "## Objectives\n",
      "metadata": {}
    },
    {
      "cell_type": "markdown",
      "source": "In this lab you will perform the following:\n",
      "metadata": {}
    },
    {
      "cell_type": "markdown",
      "source": "-   Identify the distribution of data in the dataset.\n\n-   Identify outliers in the dataset.\n\n-   Remove outliers from the dataset.\n\n-   Identify correlation between features in the dataset.\n",
      "metadata": {}
    },
    {
      "cell_type": "markdown",
      "source": "* * *\n",
      "metadata": {}
    },
    {
      "cell_type": "markdown",
      "source": "## Hands on Lab\n",
      "metadata": {}
    },
    {
      "cell_type": "markdown",
      "source": "Import the pandas module.\n",
      "metadata": {}
    },
    {
      "cell_type": "code",
      "source": "import pandas as pd",
      "metadata": {
        "trusted": true
      },
      "outputs": [],
      "execution_count": 1
    },
    {
      "cell_type": "markdown",
      "source": "Load the dataset into a dataframe.\n",
      "metadata": {}
    },
    {
      "cell_type": "markdown",
      "source": "<h2>Read Data</h2>\n<p>\nWe utilize the <code>pandas.read_csv()</code> function for reading CSV files. However, in this version of the lab, which operates on JupyterLite, the dataset needs to be downloaded to the interface using the provided code below.\n</p>\n",
      "metadata": {}
    },
    {
      "cell_type": "markdown",
      "source": "The functions below will download the dataset into your browser:\n",
      "metadata": {}
    },
    {
      "cell_type": "code",
      "source": "from pyodide.http import pyfetch\n\nasync def download(url, filename):\n    response = await pyfetch(url)\n    if response.status == 200:\n        with open(filename, \"wb\") as f:\n            f.write(await response.bytes())",
      "metadata": {
        "trusted": true
      },
      "outputs": [],
      "execution_count": 2
    },
    {
      "cell_type": "code",
      "source": "file_path = \"https://cf-courses-data.s3.us.cloud-object-storage.appdomain.cloud/IBM-DA0321EN-SkillsNetwork/LargeData/m2_survey_data.csv\"",
      "metadata": {
        "trusted": true
      },
      "outputs": [],
      "execution_count": 3
    },
    {
      "cell_type": "markdown",
      "source": "To obtain the dataset, utilize the download() function as defined above:  \n",
      "metadata": {}
    },
    {
      "cell_type": "code",
      "source": "await download(file_path, \"m2_survey_data.csv\")\nfile_name=\"m2_survey_data.csv\"",
      "metadata": {
        "trusted": true
      },
      "outputs": [],
      "execution_count": 4
    },
    {
      "cell_type": "markdown",
      "source": "Utilize the Pandas method read_csv() to load the data into a dataframe.\n",
      "metadata": {}
    },
    {
      "cell_type": "code",
      "source": "df = pd.read_csv(file_name)",
      "metadata": {
        "trusted": true
      },
      "outputs": [],
      "execution_count": 5
    },
    {
      "cell_type": "markdown",
      "source": "> Note: This version of the lab is working on JupyterLite, which requires the dataset to be downloaded to the interface.While working on the downloaded version of this notebook on their local machines(Jupyter Anaconda), the learners can simply **skip the steps above,** and simply use the URL directly in the `pandas.read_csv()` function. You can uncomment and run the statements in the cell below.\n",
      "metadata": {}
    },
    {
      "cell_type": "code",
      "source": "#df = pd.read_csv(\"https://cf-courses-data.s3.us.cloud-object-storage.appdomain.cloud/IBM-DA0321EN-SkillsNetwork/LargeData/m2_survey_data.csv\")",
      "metadata": {},
      "outputs": [],
      "execution_count": null
    },
    {
      "cell_type": "markdown",
      "source": "## Distribution\n",
      "metadata": {}
    },
    {
      "cell_type": "markdown",
      "source": "### Determine how the data is distributed\n",
      "metadata": {}
    },
    {
      "cell_type": "markdown",
      "source": "The column `ConvertedComp` contains Salary converted to annual USD salaries using the exchange rate on 2019-02-01.\n\nThis assumes 12 working months and 50 working weeks.\n",
      "metadata": {}
    },
    {
      "cell_type": "markdown",
      "source": "Plot the distribution curve for the column `ConvertedComp`.\n",
      "metadata": {}
    },
    {
      "cell_type": "code",
      "source": "# your code goes here\nimport numpy as np\nfrom scipy.stats import gaussian_kde\nimport matplotlib.pyplot as plt\ndf = df.replace([np.inf, -np.inf], np.nan)\ndf = df.dropna(subset=['ConvertedComp'])\nconverted_comp = df['ConvertedComp']\n\n# Plot the histogram\nplt.figure(figsize=(10, 6))\ncount, bins, ignored = plt.hist(converted_comp, bins=30, density=True, alpha=0.6, color='g')\n\n# Add a Kernel Density Estimate (KDE) curve\nkde = gaussian_kde(converted_comp)\nkde_xs = np.linspace(min(converted_comp), max(converted_comp), 300)\nplt.plot(kde_xs, kde(kde_xs), 'k', linewidth=2)\n",
      "metadata": {
        "trusted": true
      },
      "outputs": [
        {
          "execution_count": 11,
          "output_type": "execute_result",
          "data": {
            "text/plain": "[<matplotlib.lines.Line2D at 0xa989750>]"
          },
          "metadata": {}
        },
        {
          "output_type": "display_data",
          "data": {
            "text/plain": "<Figure size 1000x600 with 1 Axes>",
            "image/png": "[encoded data removed]"
          },
          "metadata": {}
        }
      ],
      "execution_count": 11
    },
    {
      "cell_type": "markdown",
      "source": "Plot the histogram for the column `ConvertedComp`.\n",
      "metadata": {}
    },
    {
      "cell_type": "code",
      "source": "# your code goes here\nplt.figure(figsize=(10, 6))\nplt.hist(df['ConvertedComp'], bins=10, edgecolor='black')",
      "metadata": {
        "trusted": true
      },
      "outputs": [
        {
          "execution_count": 31,
          "output_type": "execute_result",
          "data": {
            "text/plain": "(array([9659.,  238.,  115.,  125.,   99.,  131.,   34.,   15.,   15.,\n         151.]),\n array([      0.,  200000.,  400000.,  600000.,  800000., 1000000.,\n        1200000., 1400000., 1600000., 1800000., 2000000.]),\n <BarContainer object of 10 artists>)"
          },
          "metadata": {}
        },
        {
          "output_type": "display_data",
          "data": {
            "text/plain": "<Figure size 1000x600 with 1 Axes>",
            "image/png": "[encoded data removed]"
          },
          "metadata": {}
        }
      ],
      "execution_count": 31
    },
    {
      "cell_type": "markdown",
      "source": "What is the median of the column `ConvertedComp`?\n57745.0",
      "metadata": {}
    },
    {
      "cell_type": "code",
      "source": "# your code goes here\nmed=df['ConvertedComp'].median()\nprint(med)",
      "metadata": {
        "trusted": true
      },
      "outputs": [
        {
          "name": "stdout",
          "text": "57745.0\n",
          "output_type": "stream"
        }
      ],
      "execution_count": 13
    },
    {
      "cell_type": "markdown",
      "source": "How many responders identified themselves only as a **Man**?\n9725",
      "metadata": {}
    },
    {
      "cell_type": "code",
      "source": "# your code goes here\n#print(list(df.columns))\ngen=df['Gender'].value_counts()\nprint(gen)",
      "metadata": {
        "trusted": true
      },
      "outputs": [
        {
          "name": "stdout",
          "text": "Man                                                            9725\nWoman                                                           679\nNon-binary, genderqueer, or gender non-conforming                59\nMan;Non-binary, genderqueer, or gender non-conforming            26\nWoman;Non-binary, genderqueer, or gender non-conforming          14\nWoman;Man                                                         7\nWoman;Man;Non-binary, genderqueer, or gender non-conforming       2\nName: Gender, dtype: int64\n",
          "output_type": "stream"
        }
      ],
      "execution_count": 23
    },
    {
      "cell_type": "markdown",
      "source": "Find out the  median ConvertedComp of responders identified themselves only as a **Woman**?\n57708.0\n",
      "metadata": {}
    },
    {
      "cell_type": "code",
      "source": "# your code goes here\nfemale_df = df[df['Gender'] == 'Woman']\nmed_fe=female_df['ConvertedComp'].median()\nprint(med_fe)",
      "metadata": {
        "trusted": true
      },
      "outputs": [
        {
          "name": "stdout",
          "text": "57708.0\n",
          "output_type": "stream"
        }
      ],
      "execution_count": 25
    },
    {
      "cell_type": "markdown",
      "source": "Give the five number summary for the column `Age`?\n",
      "metadata": {}
    },
    {
      "cell_type": "markdown",
      "source": "**Double click here for hint**.\n\n<!--\nmin,q1,median,q3,max of a column are its five number summary.\n-->\nFive-number summary for 'Age':\nMinimum (Min): 16.0\nFirst Quartile (Q1): 25.0\nMedian (Q2): 29.0\nThird Quartile (Q3): 35.0\nMaximum (Max): 99.0",
      "metadata": {}
    },
    {
      "cell_type": "code",
      "source": "# your code goes here\nmin_age = df['Age'].min()\nq1_age = df['Age'].quantile(0.25)\nmedian_age = df['Age'].median()\nq3_age = df['Age'].quantile(0.75)\nmax_age = df['Age'].max()\n\nprint(f\"Five-number summary for 'Age':\")\nprint(f\"Minimum (Min): {min_age}\")\nprint(f\"First Quartile (Q1): {q1_age}\")\nprint(f\"Median (Q2): {median_age}\")\nprint(f\"Third Quartile (Q3): {q3_age}\")\nprint(f\"Maximum (Max): {max_age}\")",
      "metadata": {
        "trusted": true
      },
      "outputs": [
        {
          "name": "stdout",
          "text": "Five-number summary for 'Age':\nMinimum (Min): 16.0\nFirst Quartile (Q1): 25.0\nMedian (Q2): 29.0\nThird Quartile (Q3): 35.0\nMaximum (Max): 99.0\n",
          "output_type": "stream"
        }
      ],
      "execution_count": 26
    },
    {
      "cell_type": "markdown",
      "source": "Plot a histogram of the column `Age`.\n",
      "metadata": {}
    },
    {
      "cell_type": "code",
      "source": "# your code goes here\nplt.figure(figsize=(10, 6))\nplt.hist(df['Age'], bins=10, edgecolor='black')",
      "metadata": {
        "trusted": true
      },
      "outputs": [
        {
          "execution_count": 30,
          "output_type": "execute_result",
          "data": {
            "text/plain": "(array([1.929e+03, 4.968e+03, 2.406e+03, 7.880e+02, 2.100e+02, 4.800e+01,\n        4.000e+00, 0.000e+00, 0.000e+00, 1.000e+00]),\n array([16. , 24.3, 32.6, 40.9, 49.2, 57.5, 65.8, 74.1, 82.4, 90.7, 99. ]),\n <BarContainer object of 10 artists>)"
          },
          "metadata": {}
        },
        {
          "output_type": "display_data",
          "data": {
            "text/plain": "<Figure size 1000x600 with 1 Axes>",
            "image/png": "[encoded data removed]"
          },
          "metadata": {}
        }
      ],
      "execution_count": 30
    },
    {
      "cell_type": "markdown",
      "source": "## Outliers\n",
      "metadata": {}
    },
    {
      "cell_type": "markdown",
      "source": "### Finding outliers\n",
      "metadata": {}
    },
    {
      "cell_type": "markdown",
      "source": "Find out if outliers exist in the column `ConvertedComp` using a box plot?\n",
      "metadata": {}
    },
    {
      "cell_type": "code",
      "source": "# your code goes here\nplt.figure(figsize=(10, 6))\nplt.boxplot(df['ConvertedComp'], vert=False)",
      "metadata": {
        "trusted": true
      },
      "outputs": [
        {
          "execution_count": 32,
          "output_type": "execute_result",
          "data": {
            "text/plain": "{'whiskers': [<matplotlib.lines.Line2D at 0xdbff950>,\n  <matplotlib.lines.Line2D at 0xdc017a8>],\n 'caps': [<matplotlib.lines.Line2D at 0xdc03680>,\n  <matplotlib.lines.Line2D at 0xdc05410>],\n 'boxes': [<matplotlib.lines.Line2D at 0xdbb5e08>],\n 'medians': [<matplotlib.lines.Line2D at 0xdbcb800>],\n 'fliers': [<matplotlib.lines.Line2D at 0xdc08d20>],\n 'means': []}"
          },
          "metadata": {}
        },
        {
          "output_type": "display_data",
          "data": {
            "text/plain": "<Figure size 1000x600 with 1 Axes>",
            "image/png": "[encoded data removed]"
          },
          "metadata": {}
        }
      ],
      "execution_count": 32
    },
    {
      "cell_type": "markdown",
      "source": "Find out the Inter Quartile Range for the column `ConvertedComp`.\n",
      "metadata": {}
    },
    {
      "cell_type": "code",
      "source": "# your code goes here\nq1 = df['ConvertedComp'].quantile(0.25)\nq3 = df['ConvertedComp'].quantile(0.75)\n\n# Calculate IQR\niqr = q3 - q1\nprint(iqr)",
      "metadata": {
        "trusted": true
      },
      "outputs": [
        {
          "name": "stdout",
          "text": "73132.0\n",
          "output_type": "stream"
        }
      ],
      "execution_count": 34
    },
    {
      "cell_type": "markdown",
      "source": "Find out the upper and lower bounds.\n",
      "metadata": {}
    },
    {
      "cell_type": "code",
      "source": "b_o=df['ConvertedComp'].median()\nprint(b_o)",
      "metadata": {
        "trusted": true
      },
      "outputs": [
        {
          "name": "stdout",
          "text": "57745.0\n",
          "output_type": "stream"
        }
      ],
      "execution_count": 44
    },
    {
      "cell_type": "code",
      "source": "# your code goes here\nlower_bound = q1 - 1.5 * iqr\nupper_bound = q3 + 1.5 * iqr\nprint(lower_bound ,upper_bound) ",
      "metadata": {
        "trusted": true
      },
      "outputs": [
        {
          "name": "stdout",
          "text": "-82830.0 209698.0\n",
          "output_type": "stream"
        }
      ],
      "execution_count": 36
    },
    {
      "cell_type": "markdown",
      "source": "Identify how many outliers are there in the `ConvertedComp` column.\n",
      "metadata": {}
    },
    {
      "cell_type": "code",
      "source": "# your code goes here\noutliers = df[(df['ConvertedComp'] < lower_bound) | (df['ConvertedComp'] > upper_bound)]\n\n# Count outliers\nnum_outliers = outliers.shape[0]\nprint(num_outliers)",
      "metadata": {
        "trusted": true
      },
      "outputs": [
        {
          "name": "stdout",
          "text": "879\n",
          "output_type": "stream"
        }
      ],
      "execution_count": 38
    },
    {
      "cell_type": "markdown",
      "source": "Create a new dataframe by removing the outliers from the `ConvertedComp` column.\n",
      "metadata": {}
    },
    {
      "cell_type": "code",
      "source": "med=df_no_outliers['ConvertedComp'].mean()\nprint(med)",
      "metadata": {
        "trusted": true
      },
      "outputs": [
        {
          "name": "stdout",
          "text": "59883.20838915799\n",
          "output_type": "stream"
        }
      ],
      "execution_count": 47
    },
    {
      "cell_type": "code",
      "source": "# your code goes here\ndf_no_outliers = df[(df['ConvertedComp'] >= lower_bound) & (df['ConvertedComp'] <= upper_bound)]\nprint(df_no_outliers)",
      "metadata": {
        "trusted": true
      },
      "outputs": [
        {
          "name": "stdout",
          "text": "       Respondent                      MainBranch Hobbyist  \\\n0               4  I am a developer by profession       No   \n1               9  I am a developer by profession      Yes   \n2              13  I am a developer by profession      Yes   \n4              17  I am a developer by profession      Yes   \n5              19  I am a developer by profession      Yes   \n...           ...                             ...      ...   \n11392       25134  I am a developer by profession      Yes   \n11393       25136  I am a developer by profession      Yes   \n11394       25137  I am a developer by profession      Yes   \n11395       25138  I am a developer by profession      Yes   \n11396       25141  I am a developer by profession      Yes   \n\n                                             OpenSourcer  \\\n0                                                  Never   \n1                             Once a month or more often   \n2      Less than once a month but more than once per ...   \n4      Less than once a month but more than once per ...   \n5                                                  Never   \n...                                                  ...   \n11392  Less than once a month but more than once per ...   \n11393                                              Never   \n11394                                              Never   \n11395                            Less than once per year   \n11396  Less than once a month but more than once per ...   \n\n                                              OpenSource          Employment  \\\n0      The quality of OSS and closed source software ...  Employed full-time   \n1      The quality of OSS and closed source software ...  Employed full-time   \n2      OSS is, on average, of HIGHER quality than pro...  Employed full-time   \n4      The quality of OSS and closed source software ...  Employed full-time   \n5      The quality of OSS and closed source software ...  Employed full-time   \n...                                                  ...                 ...   \n11392  OSS is, on average, of HIGHER quality than pro...  Employed full-time   \n11393  OSS is, on average, of HIGHER quality than pro...  Employed full-time   \n11394  The quality of OSS and closed source software ...  Employed full-time   \n11395  The quality of OSS and closed source software ...  Employed full-time   \n11396  OSS is, on average, of LOWER quality than prop...  Employed full-time   \n\n             Country Student  \\\n0      United States      No   \n1        New Zealand      No   \n2      United States      No   \n4          Australia      No   \n5             Brazil      No   \n...              ...     ...   \n11392        Ecuador      No   \n11393  United States      No   \n11394         Poland      No   \n11395  United States      No   \n11396    Switzerland      No   \n\n                                                 EdLevel  \\\n0               Bachelor’s degree (BA, BS, B.Eng., etc.)   \n1      Some college/university study without earning ...   \n2            Master’s degree (MA, MS, M.Eng., MBA, etc.)   \n4               Bachelor’s degree (BA, BS, B.Eng., etc.)   \n5      Some college/university study without earning ...   \n...                                                  ...   \n11392           Bachelor’s degree (BA, BS, B.Eng., etc.)   \n11393        Master’s degree (MA, MS, M.Eng., MBA, etc.)   \n11394        Master’s degree (MA, MS, M.Eng., MBA, etc.)   \n11395        Master’s degree (MA, MS, M.Eng., MBA, etc.)   \n11396  Secondary school (e.g. American high school, G...   \n\n                                          UndergradMajor  ...  \\\n0      Computer science, computer engineering, or sof...  ...   \n1      Computer science, computer engineering, or sof...  ...   \n2      Computer science, computer engineering, or sof...  ...   \n4      Computer science, computer engineering, or sof...  ...   \n5      Computer science, computer engineering, or sof...  ...   \n...                                                  ...  ...   \n11392  Computer science, computer engineering, or sof...  ...   \n11393  Computer science, computer engineering, or sof...  ...   \n11394  Computer science, computer engineering, or sof...  ...   \n11395  Computer science, computer engineering, or sof...  ...   \n11396                                                NaN  ...   \n\n                                  WelcomeChange  \\\n0       Just as welcome now as I felt last year   \n1       Just as welcome now as I felt last year   \n2      Somewhat more welcome now than last year   \n4       Just as welcome now as I felt last year   \n5       Just as welcome now as I felt last year   \n...                                         ...   \n11392  Somewhat less welcome now than last year   \n11393   Just as welcome now as I felt last year   \n11394     A lot more welcome now than last year   \n11395     A lot more welcome now than last year   \n11396  Somewhat less welcome now than last year   \n\n                                            SONewContent   Age Gender Trans  \\\n0      Tech articles written by other developers;Indu...  22.0    Man    No   \n1                                                    NaN  23.0    Man    No   \n2      Tech articles written by other developers;Cour...  28.0    Man    No   \n4      Tech articles written by other developers;Indu...  29.0    Man    No   \n5      Tech articles written by other developers;Indu...  31.0    Man    No   \n...                                                  ...   ...    ...   ...   \n11392          Tech articles written by other developers  32.0    Man    No   \n11393  Tech articles written by other developers;Cour...  36.0    Man    No   \n11394  Tech articles written by other developers;Tech...  25.0    Man    No   \n11395  Tech articles written by other developers;Indu...  34.0    Man    No   \n11396                                                NaN  25.0    Man    No   \n\n                     Sexuality                              Ethnicity  \\\n0      Straight / Heterosexual           White or of European descent   \n1                     Bisexual           White or of European descent   \n2      Straight / Heterosexual           White or of European descent   \n4      Straight / Heterosexual  Hispanic or Latino/Latina;Multiracial   \n5      Straight / Heterosexual              Hispanic or Latino/Latina   \n...                        ...                                    ...   \n11392  Straight / Heterosexual              Hispanic or Latino/Latina   \n11393  Straight / Heterosexual           White or of European descent   \n11394  Straight / Heterosexual           White or of European descent   \n11395  Straight / Heterosexual           White or of European descent   \n11396  Straight / Heterosexual           White or of European descent   \n\n      Dependents           SurveyLength                  SurveyEase  \n0             No  Appropriate in length                        Easy  \n1             No  Appropriate in length  Neither easy nor difficult  \n2            Yes  Appropriate in length                        Easy  \n4             No  Appropriate in length                        Easy  \n5            Yes               Too long                        Easy  \n...          ...                    ...                         ...  \n11392         No  Appropriate in length                        Easy  \n11393         No  Appropriate in length                   Difficult  \n11394         No  Appropriate in length  Neither easy nor difficult  \n11395        Yes               Too long                        Easy  \n11396         No  Appropriate in length                        Easy  \n\n[9703 rows x 85 columns]\n",
          "output_type": "stream"
        }
      ],
      "execution_count": 40
    },
    {
      "cell_type": "markdown",
      "source": "## Correlation\n",
      "metadata": {}
    },
    {
      "cell_type": "markdown",
      "source": "### Finding correlation\n",
      "metadata": {}
    },
    {
      "cell_type": "markdown",
      "source": "Find the correlation between `Age` and all other numerical columns.\n",
      "metadata": {}
    },
    {
      "cell_type": "code",
      "source": "med_age=df['Age'].median()\nprint(med_age)",
      "metadata": {
        "trusted": true
      },
      "outputs": [
        {
          "name": "stdout",
          "text": "29.0\n",
          "output_type": "stream"
        }
      ],
      "execution_count": 43
    },
    {
      "cell_type": "code",
      "source": "# your code goes here\ncorrelation = df.corr()['Age']\nprint(correlation)",
      "metadata": {
        "trusted": true
      },
      "outputs": [
        {
          "name": "stderr",
          "text": "<ipython-input-41-8b32a7e8d414>:2: FutureWarning: The default value of numeric_only in DataFrame.corr is deprecated. In a future version, it will default to False. Select only valid columns or specify the value of numeric_only to silence this warning.\n  correlation = df.corr()['Age']\n",
          "output_type": "stream"
        },
        {
          "name": "stdout",
          "text": "Respondent       0.002394\nCompTotal        0.006949\nConvertedComp    0.105386\nWorkWeekHrs      0.031592\nCodeRevHrs      -0.015742\nAge              1.000000\nName: Age, dtype: float64\n",
          "output_type": "stream"
        }
      ],
      "execution_count": 41
    },
    {
      "cell_type": "markdown",
      "source": "## Authors\n",
      "metadata": {}
    },
    {
      "cell_type": "markdown",
      "source": "Ramesh Sannareddy\n",
      "metadata": {}
    },
    {
      "cell_type": "markdown",
      "source": "### Other Contributors\n",
      "metadata": {}
    },
    {
      "cell_type": "markdown",
      "source": "Rav Ahuja\n",
      "metadata": {}
    },
    {
      "cell_type": "markdown",
      "source": "## Change Log\n",
      "metadata": {}
    },
    {
      "cell_type": "markdown",
      "source": "| Date (YYYY-MM-DD) | Version | Changed By        | Change Description                 |\n| ----------------- | ------- | ----------------- | ---------------------------------- |\n| 2020-10-17        | 0.1     | Ramesh Sannareddy | Created initial version of the lab |\n",
      "metadata": {}
    },
    {
      "cell_type": "markdown",
      "source": " Copyright © 2020 IBM Corporation. This notebook and its source code are released under the terms of the [MIT License](https://cognitiveclass.ai/mit-license?cm_mmc=Email_Newsletter-_-Developer_Ed%2BTech-_-WW_WW-_-SkillsNetwork-Courses-IBM-DA0321EN-SkillsNetwork-21426264&cm_mmca1=000026UJ&cm_mmca2=10006555&cm_mmca3=M12345678&cvosrc=email.Newsletter.M12345678&cvo_campaign=000026UJ&cm_mmc=Email_Newsletter-_-Developer_Ed%2BTech-_-WW_WW-_-SkillsNetwork-Courses-IBM-DA0321EN-SkillsNetwork-21426264&cm_mmca1=000026UJ&cm_mmca2=10006555&cm_mmca3=M12345678&cvosrc=email.Newsletter.M12345678&cvo_campaign=000026UJ&cm_mmc=Email_Newsletter-_-Developer_Ed%2BTech-_-WW_WW-_-SkillsNetwork-Courses-IBM-DA0321EN-SkillsNetwork-21426264&cm_mmca1=000026UJ&cm_mmca2=10006555&cm_mmca3=M12345678&cvosrc=email.Newsletter.M12345678&cvo_campaign=000026UJ&cm_mmc=Email_Newsletter-_-Developer_Ed%2BTech-_-WW_WW-_-SkillsNetwork-Courses-IBM-DA0321EN-SkillsNetwork-21426264&cm_mmca1=000026UJ&cm_mmca2=10006555&cm_mmca3=M12345678&cvosrc=email.Newsletter.M12345678&cvo_campaign=000026UJ).\n",
      "metadata": {}
    }
  ]
}